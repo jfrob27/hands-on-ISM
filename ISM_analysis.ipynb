{
 "cells": [
  {
   "cell_type": "markdown",
   "metadata": {},
   "source": [
    "# Multi-scale and statistical analysis of observed and simulated astrophysical data\n",
    "\n",
    "Jean-François ROBITAILLE, Benoît COMMERÇON & Frédérique MOTTE\n",
    "\n",
    "Many thanks to Erik Rosolowsky for his help on *TurbuStat* functions.\n",
    "\n",
    "This notebook presents a non-exhaustive demonstration of some python tools available to the astrophysical community to perform multi-scale and related analysis.\n",
    "\n",
    "The first part of the hands-on project is based on mainly two packages:\n",
    "\n",
    " - TurbuStat - [https://github.com/Astroua/TurbuStat](https://github.com/Astroua/TurbuStat)\n",
    " - Pywavan - [https://github.com/jfrob27/pywavan](https://github.com/jfrob27/pywavan)\n",
    "\n",
    "*TurbuStat* aimes at facilitating comparisons between spectral line data cubes. Included in this package are several techniques described in the literature which aim to describe some property of a data cube. It also includes an impressive collection of statistical analysis techniques, such as the **PDF**, the **power spectrum**, the **∆-variance**, the **dendrogram**, etc.\n",
    "\n",
    "*Pywavan* has been developed by me and it revolves mainly around one function which is dedicated to the wavelet power spectrum analysis of a map and its **Multi-scale non-Gaussian Segmentation (MnGSeg)**. It also contains functions to perform the **classical Fourier power spectrum analysis**, generate **fractal simulations** and do basic data manipulation, such as **cutting fits maps**, **beam convolution**.\n",
    "\n",
    "The second part of the hands-on project will explore **3D simulations dataset**. It will consist in analysing 3D simulations datasets obtained using the [RAMSES code](https://bitbucket.org/rteyssie/ramses/src/master/), from which the 2D column density maps were derived. The visualisation code [Osyris](https://github.com/nvaytet/osyris) will be used to load the 3D RAMSES datasets, to plot various quantities (density slices, histograms), to export arrays in order to do **PDF of 3D fields** for instance or to produce **column density maps**.  If time permits, the RAMSES code will be run at low resolution in order to produce directly the 3D simulation datasets, exploring the initial parameter space."
   ]
  },
  {
   "cell_type": "markdown",
   "metadata": {},
   "source": [
    "# Multi-scale & Statistical analysis"
   ]
  },
  {
   "cell_type": "markdown",
   "metadata": {},
   "source": [
    "## Why multi-scale analysis techniques?\n",
    "\n",
    "The structure formation in the interstellar medium is largely dominated by mutli-scale processes such as turbulence through its energy cascade and gravity, which is responsible for the formation of the densest structures.\n",
    "\n",
    "Measuring the scaling behaviour of a cloud and decomposing its building blocks using several statistical techniques can help us to understand the physical mecanisms at the origin of cloud structure formation and ultimately the formation of stars."
   ]
  },
  {
   "cell_type": "markdown",
   "metadata": {},
   "source": [
    "### Dependencies"
   ]
  },
  {
   "cell_type": "markdown",
   "metadata": {},
   "source": [
    "Plots and matrices (normally already installed on Colab)"
   ]
  },
  {
   "cell_type": "code",
   "execution_count": null,
   "metadata": {},
   "outputs": [],
   "source": [
    "!pip install matplotlib numpy"
   ]
  },
  {
   "cell_type": "markdown",
   "metadata": {},
   "source": [
    "Dowload and manage fits data"
   ]
  },
  {
   "cell_type": "code",
   "execution_count": null,
   "metadata": {},
   "outputs": [],
   "source": [
    "!pip install aplpy astropy"
   ]
  },
  {
   "cell_type": "markdown",
   "metadata": {},
   "source": [
    "*Turbustat* package and dependencies"
   ]
  },
  {
   "cell_type": "code",
   "execution_count": null,
   "metadata": {
    "tags": []
   },
   "outputs": [],
   "source": [
    "!pip install turbustat sklearn statsmodels radio_beam"
   ]
  },
  {
   "cell_type": "code",
   "execution_count": null,
   "metadata": {},
   "outputs": [],
   "source": [
    "!pip install git+https://github.com/dendrograms/astrodendro.git"
   ]
  },
  {
   "cell_type": "markdown",
   "metadata": {},
   "source": [
    "*Pywavan* package"
   ]
  },
  {
   "cell_type": "code",
   "execution_count": null,
   "metadata": {},
   "outputs": [],
   "source": [
    "!pip install git+https://github.com/jfrob27/pywavan.git"
   ]
  },
  {
   "cell_type": "code",
   "execution_count": null,
   "metadata": {},
   "outputs": [],
   "source": [
    "%pylab inline"
   ]
  },
  {
   "cell_type": "markdown",
   "metadata": {},
   "source": [
    "Open data"
   ]
  },
  {
   "cell_type": "code",
   "execution_count": null,
   "metadata": {},
   "outputs": [],
   "source": [
    "from astropy.io import fits\n",
    "import aplpy"
   ]
  },
  {
   "cell_type": "markdown",
   "metadata": {},
   "source": [
    "### Load a set of data\n",
    "\n",
    "During this project, you will have to compare the statistical analysis done on multiple star forming regions (real and simulated). The real star forming regions are observed by *Herschel* space observatory and are part of the [Gould Belt Survey archive](http://www.herschel.fr/cea/gouldbelt/en/Phocea/Vie_des_labos/Ast/ast_visu.php?id_ast=66).\n",
    "\n",
    "The first region as been chosen and prepared for you. It is the Polaris molecular cloud. Polaris is a young star forming region with just a few pre-stellar cores detected [Ward-Thompson et al. 2010](https://www.aanda.org/articles/aa/full_html/2010/10/aa14618-10/aa14618-10.html).\n",
    "\n",
    "Once you will master the statistical analysis technique suggested in this document, you will have to compare your results will the analysis of at least another region of your choice from the [Gould Belt Survey archive](http://www.herschel.fr/cea/gouldbelt/en/Phocea/Vie_des_labos/Ast/ast_visu.php?id_ast=66).\n",
    "\n",
    "The properties derived from the different analysis could then also be compared with the statistical simulations (fBms) you manipulated and also the numerical simulations that you will manipulate later in this project.\n",
    "\n",
    "Let's have a look at Polaris first:"
   ]
  },
  {
   "cell_type": "code",
   "execution_count": null,
   "metadata": {},
   "outputs": [],
   "source": [
    "#HDU = fits.open('/Users/robitaij/postdoc/colloque/notebooks/polaris-250_cut.fits')\n",
    "HDU = fits.open('https://ipag.osug.fr/~robitaij/polaris-250_cutB.fits')\n",
    "im = HDU[0].data\n",
    "header = HDU[0].header"
   ]
  },
  {
   "cell_type": "code",
   "execution_count": null,
   "metadata": {},
   "outputs": [],
   "source": [
    "fig_all = plt.figure(1, figsize=(10,10))\n",
    "\n",
    "fig = aplpy.FITSFigure(fits.PrimaryHDU(im,header=header),figure=fig_all)\n",
    "fig.show_colorscale(cmap='cubehelix')\n",
    "fig.add_colorbar()\n",
    "fig.colorbar.set_axis_label_text(header['BUNIT'])\n",
    "fig.set_title(\"Taurus column density map\")\n",
    "plt.tight_layout()"
   ]
  },
  {
   "cell_type": "markdown",
   "metadata": {},
   "source": [
    "### Prepare the map\n",
    "\n",
    "The Polaris map downloaded from the archive has a lot of *NaNs* at it borders and it is also too big to be analysed directly on Colab. For this matter, we suggest you to dowload the 250 $\\mu$m, which is a good proxy of the column density map and which has a lower pixel resolution.\n",
    "\n",
    "You will need to prepare the map before starting the analysis. For this, you need to load the **subfits** function, which will allows you to cut the map and updates its header in order to keep the right celectial coordinates associated to each pixels."
   ]
  },
  {
   "cell_type": "code",
   "execution_count": null,
   "metadata": {},
   "outputs": [],
   "source": [
    "from pywavan import subfits"
   ]
  },
  {
   "cell_type": "code",
   "execution_count": null,
   "metadata": {},
   "outputs": [],
   "source": [
    "#To display the manual for the function\n",
    "subfits?"
   ]
  },
  {
   "cell_type": "markdown",
   "metadata": {},
   "source": [
    "We also suggest, if you are working on Colab, to upload the desired map on your Google drive account and to connect you gdrive to Colab following this procedure."
   ]
  },
  {
   "cell_type": "code",
   "execution_count": null,
   "metadata": {},
   "outputs": [],
   "source": [
    "from google.colab import drive\n",
    "drive.mount('/content/gdrive')"
   ]
  },
  {
   "cell_type": "markdown",
   "metadata": {},
   "source": [
    "Then with similar adresses (see below), you should be able to cut the desired map using the pixel coordinates that you will determine. This way your map will be saved on your gdrive and can be read again (for instance, the next day) using the same output adress."
   ]
  },
  {
   "cell_type": "code",
   "execution_count": null,
   "metadata": {},
   "outputs": [],
   "source": [
    "input = '/content/gdrive/MyDrive/HGBS/polaris-250.fits'\n",
    "output = '/content/gdrive/MyDrive/HGBS/polaris-250_cut.fits'\n",
    "coords = np.array([1180,2060,2750,3130])\n",
    "subfits(input,output,coords)"
   ]
  },
  {
   "cell_type": "markdown",
   "metadata": {},
   "source": [
    "Now, let's start the analysis!"
   ]
  },
  {
   "cell_type": "markdown",
   "metadata": {},
   "source": [
    "# Dendrograms\n",
    "\n",
    "In general, dendrograms provide a hierarchical description of datasets, which may be used to identify clusters of similar objects or variables. This is known as hierarchical clustering. In the case of position-position-velocity (PPV) cubes, a dendrogram is a hierarchical decomposition of the emission in the cube. This decomposition was introduced by [Rosolowsky et al. 2008](https://ui.adsabs.harvard.edu/#abs/2008ApJ...679.1338R/abstract) and [Goodman et al. 2009](https://ui.adsabs.harvard.edu/#abs/2009Natur.457...63G/abstract) to calculate the multiscale properties of molecular gas in nearby clouds. The tree structure is comprised of branches and leaves. Branches are the connections, while leaves are the tips of the branches."
   ]
  },
  {
   "cell_type": "code",
   "execution_count": null,
   "metadata": {},
   "outputs": [],
   "source": [
    "from turbustat.statistics import Dendrogram_Stats\n",
    "from astrodendro import Dendrogram\n",
    "import astropy.units as u"
   ]
  },
  {
   "cell_type": "code",
   "execution_count": null,
   "metadata": {},
   "outputs": [],
   "source": [
    "d = Dendrogram.compute(im, min_value=0.0, min_delta=10.0, min_npix=50, verbose=False)"
   ]
  },
  {
   "cell_type": "code",
   "execution_count": null,
   "metadata": {},
   "outputs": [],
   "source": [
    "figure(figsize=(12,9))\n",
    "ax = subplot(111)  \n",
    "p = d.plotter()\n",
    "p.plot_tree(ax, color='black')\n",
    "p.plot_tree(ax, structure=[36], lw=3, colors='yellow')\n",
    "p.plot_tree(ax, structure=[34], lw=3, colors='red')\n",
    "p.plot_tree(ax, structure=[77], lw=3, colors='blue')\n",
    "ylabel(header['BUNIT'])\n",
    "xlabel('Structure')"
   ]
  },
  {
   "cell_type": "code",
   "execution_count": null,
   "metadata": {},
   "outputs": [],
   "source": [
    "fig = plt.figure(figsize=(15,15))\n",
    "ax = fig.add_subplot(1, 1, 1)\n",
    "ax.imshow(im, origin='lower', interpolation='nearest', cmap='cubehelix',vmin=-1.774e+01, vmax=5.339e+01)\n",
    "\n",
    "# Show contour for ``min_value``\n",
    "p.plot_contour(ax, colors='black')\n",
    "\n",
    "# Highlight branches\n",
    "p.plot_contour(ax, structure=36, colors='yellow')\n",
    "p.plot_contour(ax, structure=34, colors='red')\n",
    "p.plot_contour(ax, structure=77, colors='blue')"
   ]
  },
  {
   "cell_type": "markdown",
   "metadata": {},
   "source": [
    "Branches selected using the Interactive Visualization of *astrodendro*. See instruction [here](https://dendrograms.readthedocs.io/en/stable/plotting.html)."
   ]
  },
  {
   "cell_type": "markdown",
   "metadata": {},
   "source": [
    "For the relationship between the number of leaves and branches in the tree versus the minimum branch length giving a power law ([Burkhart et al. 2013](https://ui.adsabs.harvard.edu/abs/2013ApJ...770..141B/abstract))."
   ]
  },
  {
   "cell_type": "code",
   "execution_count": null,
   "metadata": {},
   "outputs": [],
   "source": [
    "#Very long to run!!! You could try during a talk later in the week ;-)\n",
    "\n",
    "#dend_stat = Dendrogram_Stats(im,header=header, min_deltas='auto', dendro_params=None, num_deltas=10)\n",
    "#dend_stat.run(show_progress=False)"
   ]
  },
  {
   "cell_type": "markdown",
   "metadata": {},
   "source": [
    "# Power spectrum\n",
    "\n",
    "A power spectrum measure the amount of power (squared amplitude of spatial fluctuations) as a function of spatial frequencies. The most common way to estimate the power spectrum is to average the squared amplitude as a function of scales over the azimuthal directions in the Fourier space.\n",
    "\n",
    "Fourier transform of an image:\n",
    "$$\\hat{f}(\\mathbf{k}) = \\int^{\\infty}_{-\\infty} f(\\mathbf{x}) e^{-2\\pi i\\mathbf{x} \\cdot \\mathbf{k}}d\\mathbf{k}$$\n",
    "\n",
    "Fourier power spectrum estimation:\n",
    "$$P(k) = \\langle |\\hat{f}(\\mathbf{k})|^2 \\rangle_{\\theta} \\propto k^{-\\beta}$$"
   ]
  },
  {
   "cell_type": "markdown",
   "metadata": {},
   "source": [
    "## Fractional Brownian motion (fBm)\n",
    "\n",
    "An fBm simulation is a simple way to generate random Gaussian fluctuations as a function of scales. These mock objects mimic ''part'' of the fractal behavior of interstellar medium and can be used to excute simple tests on statistical tools (as the power spectrum).\n",
    "\n",
    "They are generated by calculating the inverse Fourier transform of random complex-number noise in the Fourier space multiplied by a power law\""
   ]
  },
  {
   "cell_type": "code",
   "execution_count": null,
   "metadata": {},
   "outputs": [],
   "source": [
    "from pywavan import fbm2d\n",
    "from turbustat.simulator import make_extended"
   ]
  },
  {
   "cell_type": "code",
   "execution_count": null,
   "metadata": {},
   "outputs": [],
   "source": [
    "beta = 2.7\n",
    "\n",
    "#Pywavan\n",
    "fbm = fbm2d(-beta,256,256)\n",
    "\n",
    "#Turbustat\n",
    "fbmturbu = make_extended(256, powerlaw=beta)\n",
    "\n",
    "figure(figsize=(15,10))\n",
    "subplot(1,2,1)\n",
    "imshow(fbm, origin='lower')\n",
    "title('Pywavan')\n",
    "subplot(1,2,2)\n",
    "imshow(fbmturbu)\n",
    "title('Turbustat')"
   ]
  },
  {
   "cell_type": "markdown",
   "metadata": {},
   "source": [
    "Since fBms are built from a set of random-phase sinusoidal functions it has the useful property of having periodic boundaries."
   ]
  },
  {
   "cell_type": "code",
   "execution_count": null,
   "metadata": {},
   "outputs": [],
   "source": [
    "Lfbm = np.concatenate((fbm, fbm),axis=1)\n",
    "\n",
    "figure(figsize=(15,10))\n",
    "imshow(Lfbm, origin='lower')"
   ]
  },
  {
   "cell_type": "markdown",
   "metadata": {},
   "source": [
    "## Fourier Power Spectrum analysis"
   ]
  },
  {
   "cell_type": "code",
   "execution_count": null,
   "metadata": {},
   "outputs": [],
   "source": [
    "from pywavan import powspec"
   ]
  },
  {
   "cell_type": "code",
   "execution_count": null,
   "metadata": {},
   "outputs": [],
   "source": [
    "tab_k, spec_k = powspec(fbm, reso = 1)\n",
    "tab_k, spec_kturbu = powspec(fbmturbu, reso = 1)\n",
    "\n",
    "#Pywavan fBm Power spectrum fit\n",
    "A = np.polyfit(np.log(tab_k[1:]), np.log(spec_k[1:]),deg=1)\n",
    "fit = np.exp(A[1])*tab_k**A[0]\n",
    "print('Pywavan fBm Power fit')\n",
    "print('A, Beta = ', np.exp(A[1]), A[0])\n",
    "\n",
    "#Turbustat fBm Power spectrum fit\n",
    "A = np.polyfit(np.log(tab_k[1:]), np.log(spec_kturbu[1:]),deg=1)\n",
    "fit_turbu = np.exp(A[1])*tab_k**A[0]\n",
    "print('Turbustat fBm Power fit')\n",
    "print('A, Beta = ', np.exp(A[1]), A[0])"
   ]
  },
  {
   "cell_type": "code",
   "execution_count": null,
   "metadata": {},
   "outputs": [],
   "source": [
    "figure(figsize=(16,6))\n",
    "subplot(1,2,1)\n",
    "plot(tab_k, spec_k)\n",
    "plot(tab_k, fit, linestyle = ':')\n",
    "xscale('log')\n",
    "yscale('log')\n",
    "xlabel('k')\n",
    "ylabel('P(k)')\n",
    "title('Pywavan')\n",
    "\n",
    "subplot(1,2,2)\n",
    "plot(tab_k, spec_kturbu)\n",
    "plot(tab_k, fit_turbu, linestyle = ':')\n",
    "xscale('log')\n",
    "yscale('log')\n",
    "xlabel('k')\n",
    "ylabel('P(k)')\n",
    "title('Turbustat')"
   ]
  },
  {
   "cell_type": "code",
   "execution_count": null,
   "metadata": {},
   "outputs": [],
   "source": [
    "from turbustat.statistics import PowerSpectrum"
   ]
  },
  {
   "cell_type": "code",
   "execution_count": null,
   "metadata": {},
   "outputs": [],
   "source": [
    "figure(figsize=(12,9))\n",
    "pspec = PowerSpectrum(fits.PrimaryHDU(fbm))\n",
    "pspec.run(verbose=True, xunit=u.pix**-1, use_wavenumber=False, fit_2D_kwargs={'fix_ellip_params':True})"
   ]
  },
  {
   "cell_type": "markdown",
   "metadata": {},
   "source": [
    "## Fourier power spectrum analysis on Polaris\n",
    "\n",
    "The scaling properties of the Polaris flare region has been analysed several times ([Miville-Deschênes et al. 2010](https://ui.adsabs.harvard.edu/abs/2010A%26A...518L.104M/abstract), [Robitaille et al. 2019](https://ui.adsabs.harvard.edu/abs/2019A%26A...628A..33R/abstract), [Allys et al. 2019](https://ui.adsabs.harvard.edu/abs/2019A%26A...629A.115A/abstract)). Polaris is particularly interesting because it is a young stellar region and it has an apparent scale-free property."
   ]
  },
  {
   "cell_type": "markdown",
   "metadata": {},
   "source": [
    "Observed star forming regions does not have periodic boundaries. This means that Fourier transforms \"try\" to replicate the decomposed signal to infinity, which can cause important discontinuities at the edge of the field. \n",
    "\n",
    "To overcome this effect:\n",
    "\n",
    "- The mean value of the field is subtracted (power spectra only measure signal fluctuations around the mean value)\n",
    "- Apodization is done at the edge of the field\n",
    "- Zero padding pixels is added to the map."
   ]
  },
  {
   "cell_type": "code",
   "execution_count": null,
   "metadata": {},
   "outputs": [],
   "source": [
    "from pywavan import apodize, padding, gauss_beam"
   ]
  },
  {
   "cell_type": "code",
   "execution_count": null,
   "metadata": {},
   "outputs": [],
   "source": [
    "#Resolution in arcmin\n",
    "reso = header['CDELT2'] * 60.\n",
    "\n",
    "#Apodization\n",
    "imzm = im - np.mean(im)\n",
    "tapper = apodize(im.shape[0],im.shape[1],0.98)\n",
    "imt = imzm *tapper\n",
    "nsize = 1024\n",
    "imr = padding(imt,nsize,nsize)\n",
    "\n",
    "#Fourier Powre Spectrum\n",
    "tab_k_im, spec_k_im = powspec(imr, reso = reso)"
   ]
  },
  {
   "cell_type": "code",
   "execution_count": null,
   "metadata": {},
   "outputs": [],
   "source": [
    "figure(figsize=(10,10))\n",
    "imshow(imr, vmin=-1.390e+01, vmax=4.622e+01, cmap='cubehelix',origin='lower')"
   ]
  },
  {
   "cell_type": "markdown",
   "metadata": {},
   "source": [
    "### Plot Fourier Power Spectrum"
   ]
  },
  {
   "cell_type": "code",
   "execution_count": null,
   "metadata": {},
   "outputs": [],
   "source": [
    "figure(figsize=(12,9))\n",
    "plot(tab_k_im, spec_k_im, label='Original')\n",
    "ylim([1e-1,1e7])\n",
    "xscale('log')\n",
    "yscale('log')\n",
    "xlabel('k')\n",
    "ylabel('P(k)')\n",
    "title('Polaris 250 $\\mu$m')\n",
    "legend()\n",
    "\n",
    "############\n",
    "#Beam and noise correction for later\n",
    "############\n",
    "#plot(tab_k_im, (spec_k_im-noise)/spec_beamn, label='Beam corrected')\n",
    "#plot(tab_k_im, fit_im, linestyle='--', label='Fit')\n",
    "#plot([tab_k_im[0],tab_k_im[-1]], [noise,noise], linestyle=':', label='Noise')\n",
    "\n",
    "############\n",
    "#Over plot turbustat result\n",
    "############\n",
    "#plot(pspec.wavenumbers/(1.4*60.),pspec.ps1D/(im.shape[0]*im.shape[1]))"
   ]
  },
  {
   "cell_type": "markdown",
   "metadata": {},
   "source": [
    "The power spectrum display a nice power law, but not as perfect as for the fractal simualtion. Here, the Herschel map power spectrum is affected by two observational limitation:\n",
    "\n",
    "- Instrumental noise (flat power at small scales - large $k$)\n",
    "- Transfer function of the telescope (the telescope beam)\n",
    "\n",
    "$$P(k) = \\Gamma(k)P_{\\textrm{sky}}(k)+N(k)$$\n",
    "\n",
    "where,\n",
    "\n",
    "$$P_{\\textrm{sky}}(k) = A_{\\textrm{ISM}}k^{\\gamma} + P_{0}$$\n",
    "\n",
    "The factor $\\Gamma(k)$ is the telescope transfer function, $N(k)$ is the noise level and $P_{0}$ modelled the excess of power at small scales induced by point sources and the cosmic infrared background (CIB) associated with unresolved infrared galaxies at high redshift. In order to measure the power associated with $P_{\\textrm{sky}}(k)$, the original power spectrum is first subtracted by the noise level and then divided by the telescope transfer function."
   ]
  },
  {
   "cell_type": "markdown",
   "metadata": {},
   "source": [
    "**Try to model the beam transfer function and the noise on the fBm above!**\n",
    "Multiplication in the Fourier space is a convolution. So the beam can be modelled by smoothing the fbm with the **imsmooth** function of pywavan. Noise has a flat power law so\n",
    "\n",
    "*noise* $\\propto$ fbm2d(0.0,nx,ny) "
   ]
  },
  {
   "cell_type": "code",
   "execution_count": null,
   "metadata": {},
   "outputs": [],
   "source": [
    "#Noise evaluation\n",
    "noise = np.mean(spec_k_im[(tab_k_im > 3.) & (tab_k_im < 5.)])\n",
    "\n",
    "#Beam FWHM\n",
    "FWHM = 18.2 / (60.*reso)  #Beam size at 250 micron\n",
    "\n",
    "#Write the beam size in the header for Turbustat (some data have already the beam size written in the header)\n",
    "header['BMAJ'] = 18.2 / 3600.\n",
    "header['BMIN'] = 18.2 / 3600.\n",
    "header['BPA'] = 0.\n",
    "\n",
    "#Simulate the beam with a Gaussian kernel and calculate its power spectrum\n",
    "beam = gauss_beam(FWHM,1024,1024,FWHM=True)\n",
    "tab_k_im, spec_beam = powspec(beam, reso=reso)\n",
    "spec_beamn = spec_beam/spec_beam[0]  #Spectrum normalisation"
   ]
  },
  {
   "cell_type": "code",
   "execution_count": null,
   "metadata": {},
   "outputs": [],
   "source": [
    "#Power spectrum fit\n",
    "limites = np.where((tab_k_im >= tab_k_im[1]) & (tab_k_im < 1.0))\n",
    "\n",
    "A = np.polyfit(np.log(tab_k_im[limites]), np.log((spec_k_im[limites]-noise)/spec_beamn[limites]),deg=1)\n",
    "fit_im = np.exp(A[1])*tab_k_im**A[0]\n",
    "print('Pywavan Polaris Power fit')\n",
    "print('A, Gamma = ', np.exp(A[1]), A[0])"
   ]
  },
  {
   "cell_type": "code",
   "execution_count": null,
   "metadata": {},
   "outputs": [],
   "source": [
    "figure(figsize=(12,9))\n",
    "pspec = PowerSpectrum(im,header)\n",
    "pspec.run(verbose=True, use_wavenumber=False, xunit=u.arcmin**-1, low_cut=tab_k_im[1] / u.arcmin, high_cut=1.0 / u.arcmin,\n",
    "          apodize_kernel='tukey', beam_correct=True)"
   ]
  },
  {
   "cell_type": "markdown",
   "metadata": {},
   "source": [
    "## Probability density distribution (PDF)\n",
    "\n",
    "Properties of the PDF, when related to an analytical form, have been found to correlate with changes in the turbulent properties (e.g., [Kowal et al. 2007](https://ui.adsabs.harvard.edu/abs/2007ApJ...658..423K/abstract), [Federrath et al. 2010](https://ui.adsabs.harvard.edu/abs/2010A%26A...512A..81F/abstract)), gravity (e.g., [Burkhart et al. 2015](https://ui.adsabs.harvard.edu/abs/2015ApJ...808...48B/abstract), [Burkhart et al. 2017](https://ui.adsabs.harvard.edu/abs/2017ApJ...834L...1B/abstract)) and star formation activity ([Schneider et al. 2013](https://ui.adsabs.harvard.edu/abs/2013ApJ...766L..17S/abstract))."
   ]
  },
  {
   "cell_type": "code",
   "execution_count": null,
   "metadata": {},
   "outputs": [],
   "source": [
    "from turbustat.statistics import PDF"
   ]
  },
  {
   "cell_type": "markdown",
   "metadata": {},
   "source": [
    "### fBm PDF\n",
    "\n",
    "Try to play with the fBm power law. **What happen for a power law $<-3.0$? Can you tell it is happening?**"
   ]
  },
  {
   "cell_type": "code",
   "execution_count": null,
   "metadata": {
    "tags": []
   },
   "outputs": [],
   "source": [
    "figure(figsize = (12,8))\n",
    "pdf_fbm = PDF(fbm, bins=None)  \n",
    "pdf_fbm.run(verbose=True, do_fit=False)\n",
    "#Turbustat fits a lognormal PDF by default (see the reason below).\n",
    "#We expect from a fBm (also called Gaussian random field) with a power law greater than -3.0\n",
    "#to be Gaussian."
   ]
  },
  {
   "cell_type": "markdown",
   "metadata": {},
   "source": [
    "### Polaris PDF"
   ]
  },
  {
   "cell_type": "code",
   "execution_count": null,
   "metadata": {},
   "outputs": [],
   "source": [
    "im_mod = im-np.min(im)+1.\n",
    "im_mod = im_mod / np.mean(im_mod)\n",
    "# Truncate data to be < 5\n",
    "im_mod = im_mod[(im_mod < 5) & (im_mod > 0.25)]\n",
    "\n",
    "figure(figsize = (12,8))\n",
    "pdf_im = PDF(im_mod, bins=None)#, normalization_type='normalize_by_mean')  \n",
    "pdf_im.run(verbose=True, do_fit=True)"
   ]
  },
  {
   "cell_type": "markdown",
   "metadata": {},
   "source": [
    "**It is close to a lognormal. How the litterature explains the excess power law tail for the PDF?**\n",
    "\n",
    "Let's try to model the lognormal distribution and interprete its origin."
   ]
  },
  {
   "cell_type": "markdown",
   "metadata": {},
   "source": [
    "### Exponentiated fBm\n",
    "\n",
    "The exponential of a Gaussian distribution is a lognormal distribution.\n",
    "\n",
    "$$\\rho_{\\rm efbm}(\\mathbf{x}) = \\exp [\\sigma_{\\rho}f(\\mathbf{x})]$$\n",
    "\n",
    "The latter is often observed in star forming regions. According to [Padoan et al. (1997)](https://ui.adsabs.harvard.edu/abs/1997ApJ...474..730P/abstract), $\\sigma_{\\rho}$ can be related to the Mach number, $\\mathcal{M}$, as\n",
    "\n",
    "$$\\sigma_{\\rho} = (\\ln[1+0.5^2\\mathcal{M}^2])^{0.5}$$"
   ]
  },
  {
   "cell_type": "code",
   "execution_count": null,
   "metadata": {},
   "outputs": [],
   "source": [
    "mach = 0.8\n",
    "sigrho = np.log(1+0.5**2.*mach**2.)**0.5\n",
    "\n",
    "efbm = np.exp(sigrho*fbm)"
   ]
  },
  {
   "cell_type": "code",
   "execution_count": null,
   "metadata": {},
   "outputs": [],
   "source": [
    "figure(figsize = (12,8))\n",
    "pdf_efbm = PDF(efbm, bins=None)  \n",
    "pdf_efbm.run(verbose=True, do_fit=True)"
   ]
  },
  {
   "cell_type": "markdown",
   "metadata": {},
   "source": [
    "### Compare the fBm vs efBm and their power spectra"
   ]
  },
  {
   "cell_type": "code",
   "execution_count": null,
   "metadata": {},
   "outputs": [],
   "source": [
    "tab_k, spec_ke = powspec(efbm, reso = 1)\n",
    "\n",
    "#Pywavan fBm Power spectrum fit\n",
    "A = np.polyfit(np.log(tab_k[1:]), np.log(spec_ke[1:]),deg=1)\n",
    "efit = np.exp(A[1])*tab_k**A[0]\n",
    "print('efBm Power fit')\n",
    "print('A, Beta = ', np.exp(A[1]), A[0])"
   ]
  },
  {
   "cell_type": "code",
   "execution_count": null,
   "metadata": {},
   "outputs": [],
   "source": [
    "figure(figsize=(15,15))\n",
    "subplot(2,2,1)\n",
    "imshow(fbm, origin='lower')\n",
    "title('fBm')\n",
    "###\n",
    "subplot(2,2,2)\n",
    "imshow(efbm, origin='lower')\n",
    "title('efBm')\n",
    "###\n",
    "subplot(2,2,3)\n",
    "plot(tab_k, spec_ke,label='efBm')\n",
    "plot(tab_k, spec_k,label='fBm')\n",
    "plot(tab_k, efit, linestyle = ':',label='fit')\n",
    "xscale('log')\n",
    "yscale('log')\n",
    "title('Power Spectrum')\n",
    "legend()\n",
    "###\n",
    "subplot(2,2,4)\n",
    "plot(pdf_efbm.bins, pdf_efbm.pdf,label='efbm')\n",
    "plot(pdf_fbm.bins, pdf_fbm.pdf,label='fbm')\n",
    "yscale('log')\n",
    "title('PDF')\n",
    "legend()"
   ]
  },
  {
   "cell_type": "markdown",
   "metadata": {},
   "source": [
    "**How to explain the very different PDFs for the two models, while having similar power spectra?**"
   ]
  },
  {
   "cell_type": "markdown",
   "metadata": {},
   "source": [
    "## The $\\Delta$-variance\n",
    "\n",
    "The $\\Delta$-variance technique was introduced by [Stutzki et al. 1998](https://ui.adsabs.harvard.edu/abs/1998A%26A...336..697S/abstract) as a generalization of Allan-variance, a technique used to study the drift in instrumentation. They found that molecular cloud structures are well characterized by fractional Brownian motion structure, which results from a power-law power spectrum with a random phase distribution (**We would like your thoughts on this at the end of the workshop!**). The technique was extended by [Bensch et al. 2001](https://ui.adsabs.harvard.edu/abs/2001A%26A...366..636B/abstract) to account for the effects of beam smoothing and edge effects on a discretely sampled grid. The technique was extended again by [Ossenkopf at al. 2008a](https://ui.adsabs.harvard.edu/abs/2008A%26A...485..917O/abstract), where the computation using filters of different scales was moved into the Fourier domain.\n",
    "\n",
    "A recent application of the $\\Delta$-variance was presented by [Sami Dib et al. 2020](https://ui.adsabs.harvard.edu/abs/2020arXiv200708533D/abstract).\n",
    "\n",
    "The $\\Delta$-variance spectrum is defined as\n",
    "\n",
    "$$\\sigma^2_{\\Delta}(L) = \\frac{1}{2}\\left\\langle(f(x,y)*\\Psi_L)^2\\right\\rangle_{x,y}$$\n",
    "\n",
    "where $*$ represents the convolution operation, $\\Psi_L$ the wavelet function (**which one?**) and $L$ the angular scale."
   ]
  },
  {
   "cell_type": "code",
   "execution_count": null,
   "metadata": {},
   "outputs": [],
   "source": [
    "from turbustat.statistics import DeltaVariance"
   ]
  },
  {
   "cell_type": "code",
   "execution_count": null,
   "metadata": {},
   "outputs": [],
   "source": [
    "figure(figsize=(12,9))\n",
    "delvar = DeltaVariance(fits.PrimaryHDU(fbm))\n",
    "delvar.run(verbose=True, xunit=u.pix) "
   ]
  },
  {
   "cell_type": "markdown",
   "metadata": {},
   "source": [
    "The relation between the power spectrum index $\\beta$ ($P(k) \\propto k^{-\\beta}$) and the $\\Delta$-variance index is ([Stutzki et al. 1998](https://ui.adsabs.harvard.edu/abs/1998A%26A...336..697S/abstract))\n",
    "\n",
    "$$\\sigma^2_{\\Delta} \\propto L^{\\beta-2}$$\n",
    "\n",
    "It is interesting to point out the relation between the $\\beta$ index and the *Hurst exponent*\n",
    "\n",
    "$$\\beta = E + 2H$$\n",
    "\n",
    "The *Hurst exponent* is intimately linked to the notion of mono-fractal and multi-fractal geometries that we will explore later."
   ]
  },
  {
   "cell_type": "markdown",
   "metadata": {},
   "source": [
    "### $\\Delta$-variance on Polaris"
   ]
  },
  {
   "cell_type": "code",
   "execution_count": null,
   "metadata": {},
   "outputs": [],
   "source": [
    "figure(figsize=(12,9))\n",
    "delvar = DeltaVariance(fits.PrimaryHDU(imr))\n",
    "delvar.run(verbose=True, xlow=delvar.lags[8], xhigh=delvar.lags[16], xunit=u.pix) "
   ]
  },
  {
   "cell_type": "markdown",
   "metadata": {},
   "source": [
    "**Is it consistent with $\\beta$? Could we try to divide the beam(Even if it is not usually done for ∆-variance analysis)?**\n",
    "\n",
    "**(Later) can you compare two datasets using turbustat.statistics.DeltaVariance_Distance?**\n",
    "\n",
    "**Is it similar to PDF_Distance or PSpec_Distance? (could be done on fBm/efBm, Polaris/other, Polaris/simu, etc)**\n",
    "\n",
    "**What do these metrics tell us after our experiments with fBms?**"
   ]
  },
  {
   "cell_type": "markdown",
   "metadata": {},
   "source": [
    "# Wavelet Power Spectrum\n",
    "\n",
    "Similarly to the $\\Delta$-variance, a wavelet power spectrum measures the scaling behaviour of a signal while taking advantage of wavelet transforms over the Fourier transform.\n",
    "\n",
    "- The Fourier transform transform gives the complete frequency content of a signal.\n",
    "- Wavelet transforms decompose an image as a function of spatial frequencies, while keeping the spatial distribution of the signal fluctuation as a function of scales.\n",
    "\n",
    "*Pywavan* ([Robitaille et al. 2019](https://ui.adsabs.harvard.edu/abs/2019A%26A...628A..33R/abstract)) uses the continuous and complex Morlet wavelet:\n",
    "\n",
    "$$\\Psi(\\mathbf{x}) = e^{i\\mathbf{k}_0\\mathbf{x}}e^{-|\\mathbf{x}|^2/2}$$\n",
    "\n",
    "and its rotated version introduced by [Kirby et al. (2005)](https://ui.adsabs.harvard.edu/abs/2005CG.....31..846K/abstract)."
   ]
  },
  {
   "cell_type": "code",
   "execution_count": null,
   "metadata": {},
   "outputs": [],
   "source": [
    "from mpl_toolkits.mplot3d import Axes3D\n",
    "from matplotlib import colors\n",
    "\n",
    "na = 512\n",
    "nb = 512\n",
    "\n",
    "ko = 5.336\n",
    "delta = (2.*np.sqrt(-2.*np.log(.75)))/ko\n",
    "N = int(np.pi/delta)\t#Number of orientation for the Morlet wavelet\n",
    "\n",
    "#Morlet wavelet in X space (Real part)\n",
    "#----------------------------------------------\n",
    "\n",
    "#t = 0.\n",
    "t = np.pi/4.\n",
    "cmap = cm.coolwarm\n",
    "\n",
    "a=60\n",
    "\n",
    "x = np.arange(-na/2, na/2, 1.)\n",
    "y = np.arange(-nb/2, nb/2, 1.)\n",
    "x, y = np.meshgrid(x, y)\n",
    "\n",
    "Mxr = np.cos( (ko/a)*( x*np.cos(t) + y*np.sin(t) ) ) * np.exp( -0.5*(x**2+y**2)/a**2)\n",
    "\n",
    "fig = plt.figure(figsize=(24,18))\n",
    "ax = fig.add_subplot(2, 2, 1, projection='3d')\n",
    "\n",
    "norm = colors.Normalize(vmin=-0.25,vmax=1.)\n",
    "\n",
    "ax.plot_surface(x, y, Mxr, cmap=cmap,\n",
    "                 linewidth=1.0, antialiased=True, rstride=8, cstride=8, norm=norm)\n",
    "#ax.plot_wireframe(x, y, Mxr, rcount=70, ccount=70, antialiased=True, linewidth=0.7)\n",
    "\n",
    "ax.set_zlim(-1.0, 1.0)\n",
    "ax.zaxis.set_major_locator(LinearLocator(5))\n",
    "ax.zaxis.set_major_formatter(FormatStrFormatter('%.1f'))\n",
    "ax.view_init(elev=40)\n",
    "ax.set_xlabel('$x$', size='x-large')\n",
    "ax.set_ylabel('$y$', size='x-large')\n",
    "\n",
    "ax.set_title('Morlet wavelet (real part)',size='xx-large')"
   ]
  },
  {
   "cell_type": "markdown",
   "metadata": {},
   "source": [
    "### Wavelet tranforms of Polaris"
   ]
  },
  {
   "cell_type": "code",
   "execution_count": null,
   "metadata": {},
   "outputs": [],
   "source": [
    "from pywavan import fan_trans"
   ]
  },
  {
   "cell_type": "code",
   "execution_count": null,
   "metadata": {},
   "outputs": [],
   "source": [
    "fan_trans?"
   ]
  },
  {
   "cell_type": "code",
   "execution_count": null,
   "metadata": {},
   "outputs": [],
   "source": [
    "%%time\n",
    "#fan_trans do the apodization and the zero padding for you.\n",
    "wt, S11a, wav_k, S1a, q = fan_trans(im, reso=reso, q=0, apodize= 0.98\n",
    "                                    , arrdim = np.array([nsize,nsize]), angular=False)"
   ]
  },
  {
   "cell_type": "markdown",
   "metadata": {},
   "source": [
    "### *fan_trans* outputs\n",
    "\n",
    "wt (wavelet coefficients averaged over directions)\n",
    "$$\\sum_{j=0}^{N_{\\theta}-1} \\tilde{f}(l,\\mathbf{x},\\theta_j)$$\n",
    "\n",
    "S11a (wavelet power averaged over directions)\n",
    "$$P^W(l,\\mathbf{x})=\\frac{\\delta \\theta}{N_{\\theta}} \\sum_{j=0}^{N_{\\theta}-1}  |\\tilde{f}(l,\\mathbf{x},\\theta_j)|^2$$\n",
    "\n",
    "S1a (wavelet power spectrum)\n",
    "\n",
    "$$P^W(l)=\\frac{1}{N_{\\mathbf{x}}} \\sum_{\\mathbf{x}} P^W(l,\\mathbf{x})$$\n",
    "\n",
    "**You can redo the wavelet transforms with _angular=True_. Display (as below) the wavelet coefficients as a function of direction.**\n",
    "\n",
    "**You can also calculate the _angular_ wavelet power spectra form the _wt_ output (or try later when you will master the integretion of _wt_ over the different dimensions).**"
   ]
  },
  {
   "cell_type": "code",
   "execution_count": null,
   "metadata": {},
   "outputs": [],
   "source": [
    "figure(figsize=(12,9))\n",
    "plot(tab_k_im, spec_k_im, label='Fourier')\n",
    "plot(wav_k, S1a, 'D', label='Wavelet')\n",
    "#plot(tab_k_im, (spec_k_im-noise)/spec_beamn, label='Beam corrected')\n",
    "#plot(tab_k_im, fit_im, linestyle='--', label='Fit')\n",
    "#plot([tab_k_im[0],tab_k_im[-1]], [noise,noise], linestyle=':', label='Noise')\n",
    "xscale('log')\n",
    "yscale('log')\n",
    "xlabel('k')\n",
    "ylabel('P(k)')\n",
    "title('Polaris 250 $\\mu$m')\n",
    "legend()"
   ]
  },
  {
   "cell_type": "markdown",
   "metadata": {},
   "source": [
    "### Display the wavelet coefficients\n",
    "\n",
    "**Try different scales (or different directions!)**"
   ]
  },
  {
   "cell_type": "code",
   "execution_count": null,
   "metadata": {},
   "outputs": [],
   "source": [
    "fig_all = plt.figure(1, figsize=(15,9))\n",
    "aplpy.FITSFigure(fits.PrimaryHDU(wt[9,:,:].real,header=header)\n",
    "                       ,figure=fig_all, subplot=(1,2,1)).show_colorscale(cmap='coolwarm')\n",
    "###\n",
    "aplpy.FITSFigure(fits.PrimaryHDU(S11a[12,:,:].real,header=header)\n",
    "                       ,figure=fig_all, subplot=(1,2,2)).show_colorscale(cmap='coolwarm')"
   ]
  },
  {
   "cell_type": "markdown",
   "metadata": {},
   "source": [
    "**You can integrate the coeffients over a range of scales (and/or directions) to filter scales, or even reconstruct _S1a_ from the _wt_ according to the equation.**\n",
    "\n",
    "**Is the plateau at small scales (large $k$) on the power spectrum really associated to instrumental noise?**"
   ]
  },
  {
   "cell_type": "code",
   "execution_count": null,
   "metadata": {},
   "outputs": [],
   "source": [
    "fig_all = plt.figure(1, figsize=(10,10))\n",
    "aplpy.FITSFigure(fits.PrimaryHDU(np.sum(wt[12:,:,:].real,axis=(0)),header=header)\n",
    "                       ,figure=fig_all).show_colorscale(cmap='coolwarm')"
   ]
  },
  {
   "cell_type": "markdown",
   "metadata": {},
   "source": [
    "Let's have a look at the distribution of power as a function of scales.\n",
    "\n",
    "**Compare these histograms with the wavelet transforms of an fBm and an efBm**\n",
    "\n",
    "**From these results, can you tell why an fBm and an efBm have a similar power law?** (Think about how the wavelet power spectrum, which corresponds well to the Fourier power spectrum, is calculated)"
   ]
  },
  {
   "cell_type": "code",
   "execution_count": null,
   "metadata": {},
   "outputs": [],
   "source": [
    "scls = [4,6,7]\n",
    "\n",
    "plt.figure(figsize=(12,9))\n",
    "for scl in scls:\n",
    "    nbins = np.int(nsize**2. * (wav_k[scl]*reso)**2.)\n",
    "    intermit = (S11a[scl,:,:])/np.mean(S11a[scl,:,:])\n",
    "    histo, edges = np.histogram(intermit,bins=nbins)\n",
    "    plt.bar(edges[:-1], histo, width=np.diff(edges), align=\"edge\",alpha=0.5\n",
    "            , label= r'$k=$ '+np.str(wav_k[scl])[:5]+r' arcmin$^{-1}$')\n",
    "plt.xlabel(r'$I/\\langle I \\rangle$')\n",
    "plt.ylabel(r\"Counts\")\n",
    "\n",
    "plt.legend()"
   ]
  },
  {
   "cell_type": "markdown",
   "metadata": {},
   "source": [
    "## Multiscale non-Gaussian Segmentation (MnGSeg)\n",
    "\n",
    "This iterative algorithm was initially developed as a method to determine the optimal denoising threshold among wavelet coefficients. In many cases, denoising consists in deleting the wavelet coefficients of a noisy signal below a threshold, usually at small scales only, and reconstructing the denoised signal from the remaining coefficients [Azzalini et al. 2005](https://www.sciencedirect.com/science/article/pii/S1063520304000752). In our case, the algorithm is applied at every spatial scales and as a function of the azimuthal direction.\n",
    "\n",
    "The algorithm is defined as follows, let $\\Phi$ be the threshold splitting the non-Gaussian terms from the Gaussian terms in the wavelet coefficient distribution and $\\mathbb{L}_{\\Phi}$ be the function indicator. The threshold $\\Phi$ is first estimated according to the variance,\n",
    "\n",
    "\n",
    "$$\\sigma_{l,\\theta}^2(\\Phi)=\\frac{1}{N_{l,\\theta}(\\Phi)}\\sum_{\\mathbf{x}} \\mathbb{L}_{\\Phi}( |\\tilde{f}_{l,\\theta}(\\mathbf{x})|) |\\tilde{f}_{l,\\theta}(\\mathbf{x})|^2,$$\n",
    "\n",
    "where\n",
    "\n",
    "$$\\mathbb{L}_{\\Phi}(|\\tilde{f}_{l,\\theta}(\\mathbf{x})|)=\\left\\{\n",
    "        \t\t\t\t\t\t\t\t\t          \\begin{array}{ll}\n",
    "  \t\t\t\t\t\t\t\t\t          1 & \\qquad \\mathrm{if} \\quad |\\tilde{f}_{l,\\theta}(\\mathbf{x})| < \\Phi \\\\\n",
    " \t\t\t\t\t\t\t\t\t          0 & \\qquad \\mathrm{else}. \\\\\n",
    " \t\t\t\t\t\t\t\t\t         \\end{array}\n",
    "  \t\t\t\t\t\t\t\t\t         \\right.$$\n",
    "\n",
    "and\n",
    "\n",
    "\n",
    "$$N_{l,\\theta}(\\Phi)=\\sum_{\\mathbf{x}} \\mathbb{L}_{\\Phi}( |\\tilde{f}_{l,\\theta}(\\mathbf{x})|).$$\n",
    "\n",
    "The iterative calculation then converges to an optimal value of the threshold $\\Phi$ which allows one to separate outliers from randomly distributed wavelet coefficients. The sequence is defined by:\n",
    "\n",
    "\n",
    "$$\\left\\{\n",
    "        \t \\begin{array}{l}\n",
    "  \t   \\Phi_{0}(l,\\theta)=\\infty \\\\\n",
    " \t   \\Phi_{n+1}(l,\\theta)=q \\sigma_{l,\\theta}(\\Phi_{n}(l,\\theta)), \\\\\n",
    " \t \\end{array}\n",
    "  \t \\right.$$\n",
    "\n",
    "where $q$ is a dimensionless constant controlling how restrictive is the definition of non-Gaussianities."
   ]
  },
  {
   "cell_type": "code",
   "execution_count": null,
   "metadata": {},
   "outputs": [],
   "source": [
    "%%time\n",
    "M = wav_k.size\n",
    "q=[2.0]*M\n",
    "\n",
    "wt, S11a, wav_k, S1a, q = fan_trans(im, reso=reso, q=q, qdyn=False, apodize= 0.98\n",
    "                                    , arrdim = np.array([nsize,nsize]), angular=False)"
   ]
  },
  {
   "cell_type": "code",
   "execution_count": null,
   "metadata": {},
   "outputs": [],
   "source": [
    "coherent = np.sum(wt[M:2*M,:,:],axis=0)  + np.mean(im)\n",
    "Gaussian = np.sum(wt[2*M:3*M,:,:],axis=0)  + np.mean(im)\n",
    "\n",
    "fig_all = plt.figure(1, figsize=(20,10))\n",
    "\n",
    "fig = aplpy.FITSFigure(fits.PrimaryHDU(Gaussian.real,header=header), figure=fig_all, convention='calabretta',subplot=(1, 2, 1))\n",
    "fig.show_colorscale(cmap='cubehelix')\n",
    "fig.tick_labels.set_xformat('dd.d')\n",
    "fig.tick_labels.set_yformat('dd.d')\n",
    "fig.add_colorbar()\n",
    "\n",
    "fig = aplpy.FITSFigure(fits.PrimaryHDU(coherent.real,header=header), figure=fig_all, convention='calabretta',subplot=(1, 2, 2))\n",
    "fig.show_colorscale(cmap='cubehelix')\n",
    "fig.tick_labels.set_xformat('dd.d')\n",
    "fig.tick_labels.set_yformat('dd.d')\n",
    "fig.add_colorbar()"
   ]
  },
  {
   "cell_type": "code",
   "execution_count": null,
   "metadata": {},
   "outputs": [],
   "source": [
    "figure(figsize=(12,9))\n",
    "plot(tab_k_im, spec_k_im, label='Fourier')\n",
    "plot(wav_k, S1a[1,:], 'D', label='Coherent')\n",
    "plot(wav_k, S1a[2,:], 'D', label='Gaussian')\n",
    "#plot(tab_k_im, (spec_k_im-noise)/spec_beamn, label='Fourier')\n",
    "#plot(wav_k, (S1a[1,:]-noise)/S1aBn, 'D', label='Coherent')\n",
    "#plot(wav_k, (S1a[2,:]-noise)/S1aBn, 'D', label='Gaussian')\n",
    "#plot(wav_k, fitG, '--', label='Gaussian fit')\n",
    "xscale('log')\n",
    "yscale('log')\n",
    "xlabel('k')\n",
    "ylabel('P(k)')\n",
    "title('Polaris 250 $\\mu$m')\n",
    "legend()"
   ]
  },
  {
   "cell_type": "markdown",
   "metadata": {},
   "source": [
    "Compared to [Robitaille et al. 2019](https://ui.adsabs.harvard.edu/abs/2019A%26A...628A..33R/abstract) (below), power spectra are not as different as for the segmentation of the full Polaris map. This can be explained by the fact that the power spectrum is a statistical analysis, so larger the sample is, better is the analysis. Nevertheless, you should succeed to retrieve a power law for the Gaussian component of the extraction.\n",
    "\n",
    "**Plot the distribution of power as a function of scales for the Gaussian component only. It should be similar to power histograms of an fBm. Why?**"
   ]
  },
  {
   "cell_type": "markdown",
   "metadata": {},
   "source": [
    "<img src=\"https://ipag.osug.fr/~robitaij/aa35545-19-fig12.png\" width=500 height=500 />"
   ]
  },
  {
   "cell_type": "markdown",
   "metadata": {},
   "source": [
    "### Beam correction for the wavelet spectrum"
   ]
  },
  {
   "cell_type": "code",
   "execution_count": null,
   "metadata": {},
   "outputs": [],
   "source": [
    "wtB, S11aB, wav_k, S1aB, qB = fan_trans(beam, reso=reso, q=0, angular=False)\n",
    "del wtB, S11aB, qB"
   ]
  },
  {
   "cell_type": "code",
   "execution_count": null,
   "metadata": {},
   "outputs": [],
   "source": [
    "#Normalisation\n",
    "S1aBn = S1aB/S1aB[3]\n",
    "S1aBn[:3] = 1."
   ]
  },
  {
   "cell_type": "code",
   "execution_count": null,
   "metadata": {},
   "outputs": [],
   "source": [
    "figure(figsize=(12,9))\n",
    "plot(wav_k,  S1aBn,'d', label='Fourier')\n",
    "xscale('log')\n",
    "yscale('log')\n",
    "xlabel('k')\n",
    "ylabel('P(k)')\n",
    "title('Beam')"
   ]
  },
  {
   "cell_type": "code",
   "execution_count": null,
   "metadata": {},
   "outputs": [],
   "source": [
    "#Power spectrum fit\n",
    "\n",
    "Ag = np.polyfit(np.log(wav_k[7:17]), np.log((S1a[2,7:17]-noise)/S1aBn[7:17]),deg=1)\n",
    "fitG = np.exp(Ag[1])*wav_k**Ag[0]\n",
    "print('Gaussian Power fit')\n",
    "print('A, Gamma = ', np.exp(Ag[1]), Ag[0])"
   ]
  },
  {
   "cell_type": "markdown",
   "metadata": {},
   "source": [
    "## Comparison with fBms"
   ]
  },
  {
   "cell_type": "code",
   "execution_count": null,
   "metadata": {},
   "outputs": [],
   "source": [
    "from pywavan import imsmooth"
   ]
  },
  {
   "cell_type": "code",
   "execution_count": null,
   "metadata": {},
   "outputs": [],
   "source": [
    "fbm_polaris = fbm2d(Ag[0],im.shape[1],im.shape[0])\n",
    "\n",
    "figure(figsize=(20,10))\n",
    "subplot(1,2,1)\n",
    "imshow(imsmooth(fbm_polaris,FWHM),origin='lower')\n",
    "\n",
    "subplot(1,2,2)\n",
    "imshow(Gaussian.real,origin='lower')"
   ]
  },
  {
   "cell_type": "markdown",
   "metadata": {},
   "source": [
    "## Multiplicative random cascade model\n",
    "\n",
    "As noted by [Vazquez-Semadeni (1994)](https://ui.adsabs.harvard.edu/abs/1994ApJ...423..681V/abstract), hierarchical structures are naturally expected to arise in flows in which the density has a log-normal distribution. This emergence of a universal distribution can be associated with the central limit theorem, for which the sum of a large number of random variables converges to a normal distribution. If this assumption is attributed to a random sequence of $\\ln\\rho$, then the density $\\rho$ becomes log-normally distributed. Thus, according to this description, after a finite time, density can be considered the product of a large number of independent random fluctuations $\\delta$,\n",
    "\n",
    "$$\\rho(t_n)=\\delta_n\\delta_{n-1}\\textrm{... }\\delta_1\\delta_0\\rho(t_0)$$\n",
    "\n",
    "We note the correspondence between the equation above and the multiplicative random cascade model that is designed to reproduce the multifractal nature of intermittency in developed turbulence ([Meneveau & Sreenivasan 1991](https://ui.adsabs.harvard.edu/abs/1991JFM...224..429M/abstract); Frisch 1995, [Robitaille et al. 2020](https://ui.adsabs.harvard.edu/abs/2020A%26A...641A.138R/abstract)). In this model, the rate of turbulent energy dissipation $\\varepsilon$ is considered first as a nonrandom positive quantity for a cubic volume of side $\\ell_0$. This volume is then subdivided into eight equal cubes of side $\\ell_1 = \\ell_0/2$. For every subdivisions, the dissipation $\\varepsilon$ is multiplied by a series of independent random variables $W_n$ that are distributed identically. After $n$ generations, the dissipation value of a cube of side $\\ell_n = \\ell_02^{-n}$  becomes $\\varepsilon_{\\ell}=W_nW_{n-1}\\textrm{... }W_1W_0\\varepsilon$.\n",
    "\n",
    "**If we can model the Gaussian (turbulent?) component of the signal, can we model the coherent part?**"
   ]
  },
  {
   "cell_type": "code",
   "execution_count": null,
   "metadata": {},
   "outputs": [],
   "source": [
    "wtA, S11aA, wav_kA, S1aA, qA = fan_trans(fbm_polaris, reso=reso, q=0, angular=True)\n",
    "del S11aA"
   ]
  },
  {
   "cell_type": "markdown",
   "metadata": {},
   "source": [
    "### A multiplicative cascade of the wavelet coefficients"
   ]
  },
  {
   "cell_type": "code",
   "execution_count": null,
   "metadata": {},
   "outputs": [],
   "source": [
    "mfrac = np.zeros(fbm_polaris.shape)\n",
    "Ndir = wtA.shape[1]\n",
    "coeff = 0.202     #Mach=1.5\n",
    "mach2 = np.sqrt(2*(np.exp((coeff)**2.)-1))\n",
    "print('Mach=',mach2)\n",
    "\n",
    "for j in range(Ndir):\n",
    "    casc=np.zeros(fbm_polaris.shape)   \n",
    "    for i in range(np.size(wav_kA)):\n",
    "        aa=np.copy(wtA[i,j,:,:].real)\n",
    "        casc+=aa/np.std(aa)*coeff\n",
    "    mfrac+=np.exp(casc)\n",
    "    \n",
    "mfrac = mfrac / Ndir"
   ]
  },
  {
   "cell_type": "code",
   "execution_count": null,
   "metadata": {},
   "outputs": [],
   "source": [
    "fig_all = plt.figure(1, figsize=(15,9))\n",
    "aplpy.FITSFigure(fits.PrimaryHDU(imsmooth(mfrac,FWHM),header=header)\n",
    "                       ,figure=fig_all, subplot=(1,2,1)).show_colorscale(cmap='cubehelix')\n",
    "###\n",
    "aplpy.FITSFigure(fits.PrimaryHDU(coherent.real,header=header)\n",
    "                       ,figure=fig_all, subplot=(1,2,2)).show_colorscale(cmap='cubehelix')"
   ]
  },
  {
   "cell_type": "markdown",
   "metadata": {},
   "source": [
    "A little similar... but if we look at the basic statistics."
   ]
  },
  {
   "cell_type": "code",
   "execution_count": null,
   "metadata": {},
   "outputs": [],
   "source": [
    "mfrac_mod = mfrac / np.mean(mfrac)\n",
    "# Truncate data to be < 5\n",
    "mfrac_mod = mfrac_mod[(mfrac_mod < 20)]\n",
    "\n",
    "figure(figsize = (12,8))\n",
    "pdf_mfrac = PDF(mfrac_mod, bins=None)  \n",
    "pdf_mfrac.run(verbose=True, do_fit=True)"
   ]
  },
  {
   "cell_type": "code",
   "execution_count": null,
   "metadata": {},
   "outputs": [],
   "source": [
    "tab_k_mfrac, spec_k_mfrac = powspec(mfrac, reso = reso)\n",
    "\n",
    "figure(figsize=(12,9))\n",
    "plot(tab_k_mfrac, spec_k_mfrac)\n",
    "xscale('log')\n",
    "yscale('log')\n",
    "xlabel('k')\n",
    "ylabel('P(k)')"
   ]
  },
  {
   "cell_type": "markdown",
   "metadata": {},
   "source": [
    "**Can we relate these random multiplicative cascade structures to the statistical properties of dense ISM structures?**"
   ]
  },
  {
   "cell_type": "markdown",
   "metadata": {},
   "source": [
    "# Numerical simulations"
   ]
  },
  {
   "cell_type": "markdown",
   "metadata": {},
   "source": [
    "Let's have a look at numerical simulations corresponding to simulations k=2, Dcr=1d26 of [Commercon et al. (2019)](https://ipag.osug.fr/~robitaij/2019_CRMIS.pdf).\n",
    "\n",
    "They are column density maps (g/cm$^2$) showing the CNM/WNM transition."
   ]
  },
  {
   "cell_type": "code",
   "execution_count": null,
   "metadata": {},
   "outputs": [],
   "source": [
    "cold1 = np.loadtxt(\"https://ipag.osug.fr/~robitaij/cold1_Dcr26_k2.txt\")\n",
    "cold2 = np.loadtxt(\"https://ipag.osug.fr/~robitaij/cold2_Dcr26_k2.txt\")\n",
    "cold3 = np.loadtxt(\"https://ipag.osug.fr/~robitaij/cold3_Dcr26_k2.txt\")"
   ]
  },
  {
   "cell_type": "code",
   "execution_count": null,
   "metadata": {},
   "outputs": [],
   "source": [
    "figure(figsize=(30,10))\n",
    "\n",
    "subplot(1,3,1)\n",
    "imshow(cold1)\n",
    "axis('off')\n",
    "title('cold1_Dcr26_k2')\n",
    "\n",
    "subplot(1,3,2)\n",
    "imshow(cold2)\n",
    "axis('off')\n",
    "title('cold2_Dcr26_k2')\n",
    "\n",
    "subplot(1,3,3)\n",
    "imshow(cold3)\n",
    "axis('off')\n",
    "title('cold3_Dcr26_k2')\n",
    "\n",
    "tight_layout()"
   ]
  },
  {
   "cell_type": "code",
   "execution_count": null,
   "metadata": {},
   "outputs": [],
   "source": [
    "Lcold2 = np.concatenate((cold2, cold2),axis=1)\n",
    "\n",
    "figure(figsize=(15,10))\n",
    "imshow(Lcold2, origin='lower')"
   ]
  },
  {
   "cell_type": "markdown",
   "metadata": {},
   "source": [
    "### Now your turn!"
   ]
  }
 ],
 "metadata": {
  "kernelspec": {
   "display_name": "Python 3",
   "language": "python",
   "name": "python3"
  },
  "language_info": {
   "codemirror_mode": {
    "name": "ipython",
    "version": 3
   },
   "file_extension": ".py",
   "mimetype": "text/x-python",
   "name": "python",
   "nbconvert_exporter": "python",
   "pygments_lexer": "ipython3",
   "version": "3.8.8"
  }
 },
 "nbformat": 4,
 "nbformat_minor": 4
}
